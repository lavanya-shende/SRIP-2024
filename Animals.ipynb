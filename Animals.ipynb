{
  "cells": [
    {
      "cell_type": "markdown",
      "metadata": {
        "id": "view-in-github",
        "colab_type": "text"
      },
      "source": [
        "<a href=\"https://colab.research.google.com/github/lavanya-shende/SRIP-2024/blob/main/Animals.ipynb\" target=\"_parent\"><img src=\"https://colab.research.google.com/assets/colab-badge.svg\" alt=\"Open In Colab\"/></a>"
      ]
    },
    {
      "cell_type": "code",
      "source": [
        "!pip install --upgrade --no-cache-dir gdown\n"
      ],
      "metadata": {
        "colab": {
          "base_uri": "https://localhost:8080/"
        },
        "id": "MapEhEmjlVBs",
        "outputId": "3dc6a0dd-ff7f-40f0-d8eb-11e8b60a7c26"
      },
      "execution_count": 6,
      "outputs": [
        {
          "output_type": "stream",
          "name": "stdout",
          "text": [
            "Requirement already satisfied: gdown in /usr/local/lib/python3.10/dist-packages (4.7.3)\n",
            "Collecting gdown\n",
            "  Downloading gdown-5.1.0-py3-none-any.whl (17 kB)\n",
            "Requirement already satisfied: beautifulsoup4 in /usr/local/lib/python3.10/dist-packages (from gdown) (4.12.3)\n",
            "Requirement already satisfied: filelock in /usr/local/lib/python3.10/dist-packages (from gdown) (3.13.1)\n",
            "Requirement already satisfied: requests[socks] in /usr/local/lib/python3.10/dist-packages (from gdown) (2.31.0)\n",
            "Requirement already satisfied: tqdm in /usr/local/lib/python3.10/dist-packages (from gdown) (4.66.2)\n",
            "Requirement already satisfied: soupsieve>1.2 in /usr/local/lib/python3.10/dist-packages (from beautifulsoup4->gdown) (2.5)\n",
            "Requirement already satisfied: charset-normalizer<4,>=2 in /usr/local/lib/python3.10/dist-packages (from requests[socks]->gdown) (3.3.2)\n",
            "Requirement already satisfied: idna<4,>=2.5 in /usr/local/lib/python3.10/dist-packages (from requests[socks]->gdown) (3.6)\n",
            "Requirement already satisfied: urllib3<3,>=1.21.1 in /usr/local/lib/python3.10/dist-packages (from requests[socks]->gdown) (2.0.7)\n",
            "Requirement already satisfied: certifi>=2017.4.17 in /usr/local/lib/python3.10/dist-packages (from requests[socks]->gdown) (2024.2.2)\n",
            "Requirement already satisfied: PySocks!=1.5.7,>=1.5.6 in /usr/local/lib/python3.10/dist-packages (from requests[socks]->gdown) (1.7.1)\n",
            "Installing collected packages: gdown\n",
            "  Attempting uninstall: gdown\n",
            "    Found existing installation: gdown 4.7.3\n",
            "    Uninstalling gdown-4.7.3:\n",
            "      Successfully uninstalled gdown-4.7.3\n",
            "Successfully installed gdown-5.1.0\n"
          ]
        }
      ]
    },
    {
      "cell_type": "code",
      "execution_count": 7,
      "metadata": {
        "colab": {
          "base_uri": "https://localhost:8080/"
        },
        "id": "TnOcCUHyxs13",
        "outputId": "89068670-504e-4389-97cd-ae8f70bf7471"
      },
      "outputs": [
        {
          "output_type": "stream",
          "name": "stdout",
          "text": [
            "Downloading...\n",
            "From (original): https://drive.google.com/uc?id=12-0rljhOfL577E_HLiUZQIgBZLr_lGAK\n",
            "From (redirected): https://drive.usercontent.google.com/download?id=12-0rljhOfL577E_HLiUZQIgBZLr_lGAK&confirm=t&uuid=40da6370-84d6-4ab5-ac6f-eacc0535e637\n",
            "To: /content/archive (1).zip\n",
            "100% 688M/688M [00:11<00:00, 60.8MB/s]\n"
          ]
        }
      ],
      "source": [
        "# Import data from google drive\n",
        "!gdown 12-0rljhOfL577E_HLiUZQIgBZLr_lGAK"
      ]
    },
    {
      "cell_type": "code",
      "execution_count": 8,
      "metadata": {
        "id": "xxnS6zNl5Lm-"
      },
      "outputs": [],
      "source": [
        "import zipfile\n",
        "\n",
        "zip_ref = zipfile.ZipFile('/content/archive (1).zip')\n",
        "zip_ref.extractall()\n",
        "zip_ref.close()"
      ]
    },
    {
      "cell_type": "code",
      "execution_count": 9,
      "metadata": {
        "id": "_7i9OMTH1QEa"
      },
      "outputs": [],
      "source": [
        "#importing required libraries\n",
        "import numpy as np\n",
        "from sklearn.model_selection import cross_val_score, KFold\n",
        "from sklearn.metrics import classification_report\n",
        "from sklearn.multiclass import OneVsRestClassifier\n",
        "from sklearn.svm import SVC\n",
        "from sklearn.preprocessing import StandardScaler\n",
        "from sklearn.ensemble import RandomForestClassifier\n",
        "from sklearn.preprocessing import LabelEncoder\n",
        "from sklearn.model_selection import train_test_split\n",
        "from sklearn.pipeline import Pipeline\n",
        "from tensorflow.keras.applications import VGG16\n",
        "from tensorflow.keras.preprocessing.image import ImageDataGenerator"
      ]
    },
    {
      "cell_type": "code",
      "execution_count": 10,
      "metadata": {
        "id": "Wk9uJTCCYBd4"
      },
      "outputs": [],
      "source": [
        "import os\n",
        "\n",
        "# Function to get subfolders in a directory\n",
        "def get_subfolders(folder_path):\n",
        "    subfolders = [f.name for f in os.scandir(folder_path) if f.is_dir()]\n",
        "    return subfolders\n",
        "\n",
        "# Path to the folder containing animal images\n",
        "folder_path = '/content/animals/animals'\n",
        "subfolders = get_subfolders(folder_path)\n",
        "\n",
        "# print(\"Subfolders:\")\n",
        "names=[]\n",
        "for subfolder in subfolders:\n",
        "    names.append(subfolder)"
      ]
    },
    {
      "cell_type": "code",
      "execution_count": null,
      "metadata": {
        "colab": {
          "base_uri": "https://localhost:8080/"
        },
        "id": "M6AdS3JdYZ5t",
        "outputId": "43af4b17-8bb4-4af3-d979-ecc08726cd23"
      },
      "outputs": [
        {
          "output_type": "execute_result",
          "data": {
            "text/plain": [
              "['donkey',\n",
              " 'cat',\n",
              " 'grasshopper',\n",
              " 'pelecaniformes',\n",
              " 'antelope',\n",
              " 'caterpillar',\n",
              " 'mouse',\n",
              " 'badger',\n",
              " 'flamingo',\n",
              " 'koala',\n",
              " 'pig',\n",
              " 'starfish',\n",
              " 'woodpecker',\n",
              " 'pigeon',\n",
              " 'hamster',\n",
              " 'goose',\n",
              " 'possum',\n",
              " 'snake',\n",
              " 'hedgehog',\n",
              " 'squid',\n",
              " 'deer',\n",
              " 'wombat',\n",
              " 'lobster',\n",
              " 'mosquito',\n",
              " 'lizard',\n",
              " 'porcupine',\n",
              " 'zebra',\n",
              " 'ox',\n",
              " 'moth',\n",
              " 'coyote',\n",
              " 'hyena',\n",
              " 'rhinoceros',\n",
              " 'fly',\n",
              " 'crab',\n",
              " 'raccoon',\n",
              " 'dog',\n",
              " 'orangutan',\n",
              " 'squirrel',\n",
              " 'hornbill',\n",
              " 'goat',\n",
              " 'otter',\n",
              " 'seahorse',\n",
              " 'oyster',\n",
              " 'octopus',\n",
              " 'rat',\n",
              " 'beetle',\n",
              " 'whale',\n",
              " 'seal',\n",
              " 'fox',\n",
              " 'reindeer',\n",
              " 'turkey',\n",
              " 'sparrow',\n",
              " 'gorilla',\n",
              " 'horse',\n",
              " 'boar',\n",
              " 'okapi',\n",
              " 'chimpanzee',\n",
              " 'penguin',\n",
              " 'bat',\n",
              " 'hippopotamus',\n",
              " 'kangaroo',\n",
              " 'shark',\n",
              " 'hummingbird',\n",
              " 'swan',\n",
              " 'bee',\n",
              " 'eagle',\n",
              " 'lion',\n",
              " 'hare',\n",
              " 'jellyfish',\n",
              " 'sheep',\n",
              " 'dragonfly',\n",
              " 'parrot',\n",
              " 'leopard',\n",
              " 'dolphin',\n",
              " 'wolf',\n",
              " 'goldfish',\n",
              " 'turtle',\n",
              " 'owl',\n",
              " 'crow',\n",
              " 'bear',\n",
              " 'duck',\n",
              " 'panda',\n",
              " 'tiger',\n",
              " 'ladybugs',\n",
              " 'bison',\n",
              " 'butterfly',\n",
              " 'elephant',\n",
              " 'sandpiper',\n",
              " 'cockroach',\n",
              " 'cow']"
            ]
          },
          "metadata": {},
          "execution_count": 27
        }
      ],
      "source": [
        "names"
      ]
    },
    {
      "cell_type": "code",
      "source": [
        "#Define the classes\n",
        "class_names = subfolders\n",
        "\n",
        "#load and preprocess the dataset\n",
        "data_dir = '/content/animals/animals'\n",
        "img_height, img_width = 150, 150\n",
        "batch_size = 32\n",
        "\n",
        "# Use ImageDataGenerator for loading and preprocessing images\n",
        "datagen = ImageDataGenerator(\n",
        "    rescale=1./255,\n",
        "    validation_split=0.2\n",
        ")\n",
        "\n",
        "# Load and preprocess the dataset\n",
        "train_generator = datagen.flow_from_directory(\n",
        "    data_dir,\n",
        "    target_size=(img_height, img_width),\n",
        "    batch_size=batch_size,\n",
        "    class_mode='categorical',\n",
        "    subset='training'\n",
        ")\n",
        "\n",
        "validation_generator = datagen.flow_from_directory(\n",
        "    data_dir,\n",
        "    target_size=(img_height, img_width),\n",
        "    batch_size=batch_size,\n",
        "    class_mode='categorical',\n",
        "    subset='validation'\n",
        ")"
      ],
      "metadata": {
        "colab": {
          "base_uri": "https://localhost:8080/"
        },
        "id": "cm14svRXCMdD",
        "outputId": "01f7e751-5d09-436e-dc55-611ac7afd1a6"
      },
      "execution_count": 11,
      "outputs": [
        {
          "output_type": "stream",
          "name": "stdout",
          "text": [
            "Found 4320 images belonging to 90 classes.\n",
            "Found 1080 images belonging to 90 classes.\n"
          ]
        }
      ]
    },
    {
      "cell_type": "code",
      "source": [
        "#Organize the dataset for one-vs-rest classification\n",
        "num_classes = len(class_names)\n",
        "\n"
      ],
      "metadata": {
        "id": "_4R7VqD_CSIA"
      },
      "execution_count": 12,
      "outputs": []
    },
    {
      "cell_type": "markdown",
      "source": [
        " Build a custom CNN model without using existing architectures like ResNet or DenseNet"
      ],
      "metadata": {
        "id": "ibuMSWIOCoM3"
      }
    },
    {
      "cell_type": "code",
      "source": [
        "from tensorflow.keras.models import Sequential\n",
        "from tensorflow.keras.layers import Conv2D, MaxPooling2D, Flatten, Dense\n",
        "\n",
        "# Define the model architecture\n",
        "model = Sequential([\n",
        "    Conv2D(32, (3, 3), activation='relu', input_shape=(img_height, img_width, 3)),\n",
        "    MaxPooling2D((2, 2)),\n",
        "    Conv2D(64, (3, 3), activation='relu'),\n",
        "    MaxPooling2D((2, 2)),\n",
        "    Conv2D(128, (3, 3), activation='relu'),\n",
        "    MaxPooling2D((2, 2)),\n",
        "    Flatten(),\n",
        "    Dense(128, activation='relu'),\n",
        "    Dense(num_classes, activation='softmax')\n",
        "])\n",
        "\n",
        "# Compile the model\n",
        "model.compile(optimizer='adam',\n",
        "              loss='categorical_crossentropy',\n",
        "              metrics=['accuracy'])\n",
        "\n",
        "# Display the model summary\n",
        "model.summary()\n"
      ],
      "metadata": {
        "colab": {
          "base_uri": "https://localhost:8080/"
        },
        "id": "AdXY4UkfCieR",
        "outputId": "cfbf4a25-de46-4995-ddc7-a05a349ace7b"
      },
      "execution_count": 13,
      "outputs": [
        {
          "output_type": "stream",
          "name": "stdout",
          "text": [
            "Model: \"sequential_1\"\n",
            "_________________________________________________________________\n",
            " Layer (type)                Output Shape              Param #   \n",
            "=================================================================\n",
            " conv2d (Conv2D)             (None, 148, 148, 32)      896       \n",
            "                                                                 \n",
            " max_pooling2d (MaxPooling2  (None, 74, 74, 32)        0         \n",
            " D)                                                              \n",
            "                                                                 \n",
            " conv2d_1 (Conv2D)           (None, 72, 72, 64)        18496     \n",
            "                                                                 \n",
            " max_pooling2d_1 (MaxPoolin  (None, 36, 36, 64)        0         \n",
            " g2D)                                                            \n",
            "                                                                 \n",
            " conv2d_2 (Conv2D)           (None, 34, 34, 128)       73856     \n",
            "                                                                 \n",
            " max_pooling2d_2 (MaxPoolin  (None, 17, 17, 128)       0         \n",
            " g2D)                                                            \n",
            "                                                                 \n",
            " flatten_1 (Flatten)         (None, 36992)             0         \n",
            "                                                                 \n",
            " dense_2 (Dense)             (None, 128)               4735104   \n",
            "                                                                 \n",
            " dense_3 (Dense)             (None, 90)                11610     \n",
            "                                                                 \n",
            "=================================================================\n",
            "Total params: 4839962 (18.46 MB)\n",
            "Trainable params: 4839962 (18.46 MB)\n",
            "Non-trainable params: 0 (0.00 Byte)\n",
            "_________________________________________________________________\n"
          ]
        }
      ]
    },
    {
      "cell_type": "code",
      "execution_count": null,
      "metadata": {
        "colab": {
          "base_uri": "https://localhost:8080/"
        },
        "id": "jcYFGOXpZNr4",
        "outputId": "1c3e5ee0-063d-48ec-9899-22127d3f9a34"
      },
      "outputs": [
        {
          "output_type": "stream",
          "name": "stdout",
          "text": [
            "Epoch 1/5\n",
            " 31/135 [=====>........................] - ETA: 12:45 - loss: 0.2487 - accuracy: 0.9731"
          ]
        }
      ],
      "source": [
        "# Step 4: Perform binary classification using existing architectures\n",
        "\n",
        "from tensorflow.keras.applications import VGG16\n",
        "from tensorflow.keras.models import Sequential\n",
        "from tensorflow.keras.layers import Flatten, Dense, Dropout\n",
        "\n",
        "# Load the pre-trained VGG16 model without the top (fully connected) layers\n",
        "base_model = VGG16(weights='imagenet', include_top=False, input_shape=(150, 150, 3))\n",
        "\n",
        "# Freeze the convolutional base\n",
        "base_model.trainable = False\n",
        "\n",
        "# Create a new model on top of the pre-trained base model\n",
        "model = Sequential([\n",
        "    base_model,\n",
        "    Flatten(),\n",
        "    Dense(256, activation='relu'),\n",
        "    Dropout(0.5),\n",
        "    Dense(1, activation='sigmoid')  # binary classification, so use sigmoid activation\n",
        "])\n",
        "\n",
        "# Compile the model\n",
        "model.compile(optimizer='adam', loss='binary_crossentropy', metrics=['accuracy'])\n",
        "\n",
        "# Train the model\n",
        "history = model.fit(train_generator,\n",
        "                    epochs=5,\n",
        "                    validation_data=validation_generator)\n"
      ]
    },
    {
      "cell_type": "code",
      "execution_count": null,
      "metadata": {
        "colab": {
          "base_uri": "https://localhost:8080/"
        },
        "id": "IarEViRHbcua",
        "outputId": "4ec4c1f6-ec88-4303-9919-b63981441f45"
      },
      "outputs": [
        {
          "data": {
            "text/plain": [
              "{'antelope': 0,\n",
              " 'badger': 1,\n",
              " 'bat': 2,\n",
              " 'bear': 3,\n",
              " 'bee': 4,\n",
              " 'beetle': 5,\n",
              " 'bison': 6,\n",
              " 'boar': 7,\n",
              " 'butterfly': 8,\n",
              " 'cat': 9,\n",
              " 'caterpillar': 10,\n",
              " 'chimpanzee': 11,\n",
              " 'cockroach': 12,\n",
              " 'cow': 13,\n",
              " 'coyote': 14,\n",
              " 'crab': 15,\n",
              " 'crow': 16,\n",
              " 'deer': 17,\n",
              " 'dog': 18,\n",
              " 'dolphin': 19,\n",
              " 'donkey': 20,\n",
              " 'dragonfly': 21,\n",
              " 'duck': 22,\n",
              " 'eagle': 23,\n",
              " 'elephant': 24,\n",
              " 'flamingo': 25,\n",
              " 'fly': 26,\n",
              " 'fox': 27,\n",
              " 'goat': 28,\n",
              " 'goldfish': 29,\n",
              " 'goose': 30,\n",
              " 'gorilla': 31,\n",
              " 'grasshopper': 32,\n",
              " 'hamster': 33,\n",
              " 'hare': 34,\n",
              " 'hedgehog': 35,\n",
              " 'hippopotamus': 36,\n",
              " 'hornbill': 37,\n",
              " 'horse': 38,\n",
              " 'hummingbird': 39,\n",
              " 'hyena': 40,\n",
              " 'jellyfish': 41,\n",
              " 'kangaroo': 42,\n",
              " 'koala': 43,\n",
              " 'ladybugs': 44,\n",
              " 'leopard': 45,\n",
              " 'lion': 46,\n",
              " 'lizard': 47,\n",
              " 'lobster': 48,\n",
              " 'mosquito': 49,\n",
              " 'moth': 50,\n",
              " 'mouse': 51,\n",
              " 'octopus': 52,\n",
              " 'okapi': 53,\n",
              " 'orangutan': 54,\n",
              " 'otter': 55,\n",
              " 'owl': 56,\n",
              " 'ox': 57,\n",
              " 'oyster': 58,\n",
              " 'panda': 59,\n",
              " 'parrot': 60,\n",
              " 'pelecaniformes': 61,\n",
              " 'penguin': 62,\n",
              " 'pig': 63,\n",
              " 'pigeon': 64,\n",
              " 'porcupine': 65,\n",
              " 'possum': 66,\n",
              " 'raccoon': 67,\n",
              " 'rat': 68,\n",
              " 'reindeer': 69,\n",
              " 'rhinoceros': 70,\n",
              " 'sandpiper': 71,\n",
              " 'seahorse': 72,\n",
              " 'seal': 73,\n",
              " 'shark': 74,\n",
              " 'sheep': 75,\n",
              " 'snake': 76,\n",
              " 'sparrow': 77,\n",
              " 'squid': 78,\n",
              " 'squirrel': 79,\n",
              " 'starfish': 80,\n",
              " 'swan': 81,\n",
              " 'tiger': 82,\n",
              " 'turkey': 83,\n",
              " 'turtle': 84,\n",
              " 'whale': 85,\n",
              " 'wolf': 86,\n",
              " 'wombat': 87,\n",
              " 'woodpecker': 88,\n",
              " 'zebra': 89}"
            ]
          },
          "execution_count": 50,
          "metadata": {},
          "output_type": "execute_result"
        }
      ],
      "source": [
        "train_generator.class_indices"
      ]
    },
    {
      "cell_type": "code",
      "execution_count": 50,
      "metadata": {
        "id": "phbNbCWdanb7"
      },
      "outputs": [],
      "source": [
        "# Step 5: Restructure for 5-class classification\n",
        "\n",
        "# Select five classes from the original 90 classes\n",
        "five_classes = ['crab', 'crow', 'deer', 'zebra', 'wolf']  # Replace with your desired classes\n",
        "\n",
        "import random\n",
        "\n",
        "# Create a dictionary to map original class indices to new class indices\n",
        "class_indices_map = {}\n",
        "for cls in five_classes:\n",
        "    if cls in train_generator.class_indices:\n",
        "        class_indices_map[train_generator.class_indices[cls]] = len(class_indices_map)\n",
        "\n",
        "# Assign other classes to one of the selected five classes randomly\n",
        "for original_class_index in train_generator.class_indices.values():\n",
        "    if original_class_index not in class_indices_map:\n",
        "        class_indices_map[original_class_index] = random.randint(0, len(five_classes) - 1)\n",
        "\n",
        "# Modify the labels for 5-class classification\n",
        "five_class_train_labels = []\n",
        "for label in train_generator.labels:\n",
        "    five_class_train_labels.append(class_indices_map.get(label, random.randint(0, len(five_classes) - 1)))\n",
        "\n",
        "five_class_validation_labels = []\n",
        "for label in validation_generator.labels:\n",
        "    five_class_validation_labels.append(class_indices_map.get(label, random.randint(0, len(five_classes) - 1)))\n",
        "\n",
        "# Convert to numpy arrays\n",
        "five_class_train_labels = np.array(five_class_train_labels)\n",
        "five_class_validation_labels = np.array(five_class_validation_labels)\n",
        "\n"
      ]
    }
  ],
  "metadata": {
    "colab": {
      "provenance": [],
      "authorship_tag": "ABX9TyPwzseMrFWE4PR50+ib+CWM",
      "include_colab_link": true
    },
    "kernelspec": {
      "display_name": "Python 3",
      "name": "python3"
    },
    "language_info": {
      "name": "python"
    }
  },
  "nbformat": 4,
  "nbformat_minor": 0
}